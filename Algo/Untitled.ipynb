{
 "cells": [
  {
   "cell_type": "code",
   "execution_count": 1,
   "id": "a919b882-b0b4-4470-9020-aca2d4750442",
   "metadata": {},
   "outputs": [],
   "source": [
    "import cv2\n",
    "import numpy as np\n",
    "from matplotlib import pyplot as plt"
   ]
  },
  {
   "cell_type": "code",
   "execution_count": 2,
   "id": "bc6bae58-a5fa-4e67-a7c6-53fdc202b8e8",
   "metadata": {},
   "outputs": [
    {
     "ename": "AttributeError",
     "evalue": "'NoneType' object has no attribute 'copy'",
     "output_type": "error",
     "traceback": [
      "\u001b[1;31m---------------------------------------------------------------------------\u001b[0m",
      "\u001b[1;31mAttributeError\u001b[0m                            Traceback (most recent call last)",
      "Cell \u001b[1;32mIn[2], line 3\u001b[0m\n\u001b[0;32m      1\u001b[0m \u001b[38;5;66;03m# Load image, grayscale, Otsu's threshold\u001b[39;00m\n\u001b[0;32m      2\u001b[0m image \u001b[38;5;241m=\u001b[39m cv2\u001b[38;5;241m.\u001b[39mimread(\u001b[38;5;124m'\u001b[39m\u001b[38;5;124mprawn.png\u001b[39m\u001b[38;5;124m'\u001b[39m)\n\u001b[1;32m----> 3\u001b[0m original_image \u001b[38;5;241m=\u001b[39m \u001b[43mimage\u001b[49m\u001b[38;5;241;43m.\u001b[39;49m\u001b[43mcopy\u001b[49m()  \u001b[38;5;66;03m# Make a copy of the original image\u001b[39;00m\n\u001b[0;32m      4\u001b[0m gray \u001b[38;5;241m=\u001b[39m cv2\u001b[38;5;241m.\u001b[39mcvtColor(image, cv2\u001b[38;5;241m.\u001b[39mCOLOR_BGR2GRAY)\n\u001b[0;32m      5\u001b[0m \u001b[38;5;66;03m# Adjust the threshold value manually\u001b[39;00m\n\u001b[0;32m      6\u001b[0m \u001b[38;5;66;03m#threshold_value = 100  # Set your desired threshold value here\u001b[39;00m\n\u001b[0;32m      7\u001b[0m \n\u001b[0;32m      8\u001b[0m \u001b[38;5;66;03m# Perform thresholding with the adjusted threshold value\u001b[39;00m\n\u001b[0;32m      9\u001b[0m \u001b[38;5;66;03m#thresh = cv2.threshold(gray,0, 255, cv2.THRESH_BINARY_INV + cv2.THRESH_OTSU)[1]\u001b[39;00m\n",
      "\u001b[1;31mAttributeError\u001b[0m: 'NoneType' object has no attribute 'copy'"
     ]
    }
   ],
   "source": [
    "# Load image, grayscale, Otsu's threshold\n",
    "image = cv2.imread('prawn.png')\n",
    "original_image = image.copy()  # Make a copy of the original image\n",
    "gray = cv2.cvtColor(image, cv2.COLOR_BGR2GRAY)\n",
    "# Adjust the threshold value manually\n",
    "#threshold_value = 100  # Set your desired threshold value here\n",
    "\n",
    "# Perform thresholding with the adjusted threshold value\n",
    "#thresh = cv2.threshold(gray,0, 255, cv2.THRESH_BINARY_INV + cv2.THRESH_OTSU)[1]\n",
    "\n",
    "thresh = cv2.adaptiveThreshold(gray, 255,\n",
    "\tcv2.ADAPTIVE_THRESH_MEAN_C, cv2.THRESH_BINARY_INV, 21, 10)\n",
    "\n",
    "# Display the thresholded image using matplotlib\n",
    "plt.imshow(thresh, cmap='gray')\n",
    "plt.title('Thresholded Image')\n",
    "plt.axis('off')  # Turn off axis\n",
    "plt.show()"
   ]
  },
  {
   "cell_type": "code",
   "execution_count": null,
   "id": "72d67c47-70b8-47c2-b1b2-1778c2125641",
   "metadata": {},
   "outputs": [],
   "source": [
    "# Morph open using elliptical shaped kernel\n",
    "kernel = cv2.getStructuringElement(cv2.MORPH_ELLIPSE, (3,3))\n",
    "opening = cv2.morphologyEx(thresh, cv2.MORPH_OPEN, kernel, iterations=3)\n",
    "plt.imshow(cv2.cvtColor(opening, cv2.COLOR_BGR2RGB))\n",
    "plt.title('Resulting Image with MorphologyEx')\n",
    "plt.axis('off')\n",
    "plt.show()\n",
    "# Find contours\n",
    "cnts = cv2.findContours(opening, cv2.RETR_EXTERNAL, cv2.CHAIN_APPROX_SIMPLE)\n",
    "cnts = cnts[0] if len(cnts) == 2 else cnts[1]\n",
    "\n"
   ]
  },
  {
   "cell_type": "code",
   "execution_count": null,
   "id": "50fb11fb-2b17-4942-aa3c-ff465d95d481",
   "metadata": {},
   "outputs": [],
   "source": [
    "\n",
    "# Filter contours by area to count only white objects\n",
    "white_objects_count = 0\n",
    "for c in cnts:\n",
    "    area = cv2.contourArea(c)\n",
    "    if area > 10:  # You can adjust this threshold to filter out smaller objects\n",
    "        white_objects_count += 1\n",
    "        # Draw contour on the original image\n",
    "        cv2.drawContours(original_image, [c], -1, (0, 255, 0), 2)\n"
   ]
  },
  {
   "cell_type": "code",
   "execution_count": null,
   "id": "1944a5cb-9772-49d1-9b2b-39469f3dd9b5",
   "metadata": {},
   "outputs": [],
   "source": [
    "# Display the count\n",
    "print(\"Number of white objects:\", white_objects_count)\n"
   ]
  },
  {
   "cell_type": "code",
   "execution_count": null,
   "id": "9a7c2bf0-aa38-4d29-b19a-aa3fc64ef5d7",
   "metadata": {},
   "outputs": [],
   "source": [
    "\n",
    "# Display the resulting image with contours\n",
    "plt.imshow(cv2.cvtColor(original_image, cv2.COLOR_BGR2RGB))\n",
    "plt.title('Resulting Image with Contours')\n",
    "plt.axis('off')\n",
    "plt.show()"
   ]
  },
  {
   "cell_type": "code",
   "execution_count": null,
   "id": "1f16ba70-c6a6-4aae-87ba-053101b09164",
   "metadata": {},
   "outputs": [],
   "source": []
  }
 ],
 "metadata": {
  "kernelspec": {
   "display_name": "Python 3 (ipykernel)",
   "language": "python",
   "name": "python3"
  },
  "language_info": {
   "codemirror_mode": {
    "name": "ipython",
    "version": 3
   },
   "file_extension": ".py",
   "mimetype": "text/x-python",
   "name": "python",
   "nbconvert_exporter": "python",
   "pygments_lexer": "ipython3",
   "version": "3.12.3"
  }
 },
 "nbformat": 4,
 "nbformat_minor": 5
}
